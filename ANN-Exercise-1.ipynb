{
 "cells": [
  {
   "cell_type": "markdown",
   "metadata": {},
   "source": [
    "# D7046E Exercise 1 (ANN1)\n",
    "\n",
    "This exercise has three taks where you will deepen your understanding of how artificial neural networks (ANNs) are implemented and trained. First, you will represent digits on an eight-segment display as vectors and hard-code perceptrons that classifies the digits. The purpose of this task is to better understand the basic computational units in ANNs and how inputs can be represented as feature vectors. Secondly, you will implement and train neural networks using [pytorch](https://pytorch.org/) on the seven-segment display data and the [MNIST](http://yann.lecun.com/exdb/mnist/) dataset which you are familiar with from Exercise 0. Finally, you will implement a neural network including the forward (inference) pass and the backward (learning) pass from scratch using numpy. After completing these steps you will know the central building blocks of ANNs.\n",
    "\n",
    "## Literature\n",
    "Before starting with the implementation you should familiarize yourself with two additional chapters in the [deep learning book](https://www.deeplearningbook.org/). This will help you understand the theory behind neural networks and what mathematical formulas are important for the task. The lectures has touched on most of these concepts. Below is a list of recommended sections from the book. If you feel familiar with the contents of these sections, feel free to skip it.\n",
    "\n",
    "* Chapter 6 - Deep feedforward networks\n",
    "    - Section 6.0 - Discusses what do we mean by feedfoward networks and terminology such as input layer, output layer and hidden layer.\n",
    "    - Section 6.2 - Discusses what gradient based learning is and what cost functions are.\n",
    "    - Section 6.5 - Explains back propagation. Important here are the formulas 6.49 - 6.52.\n",
    "* Chapter 8 - Optimization for Training Deep Models\n",
    "    - Section 8.1.3 - Presents differences between batch (deterministic) and mini-batch (stochastic) algorithms.\n",
    "    \n",
    "## Libraries\n",
    "\n",
    "Before starting with the implementations you need to import the following libraries."
   ]
  },
  {
   "cell_type": "code",
   "execution_count": 298,
   "metadata": {
    "ExecuteTime": {
     "end_time": "2024-01-09T10:35:40.465251700Z",
     "start_time": "2024-01-09T10:35:37.353754400Z"
    }
   },
   "outputs": [],
   "source": [
    "import torch\n",
    "import torch.nn as nn\n",
    "import torch.nn.functional as F\n",
    "import torch.optim as optim\n",
    "from torch.utils.data import DataLoader\n",
    "from torchvision import datasets, transforms\n",
    "\n",
    "import matplotlib.pyplot as plt\n",
    "import numpy\n",
    "import copy\n",
    "\n",
    "from torch.utils.data import random_split"
   ]
  },
  {
   "cell_type": "markdown",
   "metadata": {
    "collapsed": false
   },
   "source": [
    "## Task 1\n",
    "\n",
    "Classification of seven-segment display numbers with perceptrons. A [seven-segment display](https://en.wikipedia.org/wiki/Seven-segment_display) can be used to display digits by turning the different segments (A,B,C,D,E,F, G) on or off. Your task is to design ten different perceptrons (which together make a single-layer neural network with 10 outputs) that recognizes the ten different digits (0,1,2,3, ... ,9) represented by a seven-segment display. The input to each perceptron will be a seven-dimensional vector {A,B,C,D,E,F,G} where A is 1 if segment A is turned on and 0 otherwise (and the same for all the other segments).\n",
    "\n",
    "![Seven Segment Display](https://upload.wikimedia.org/wikipedia/commons/thumb/e/ed/7_Segment_Display_with_Labeled_Segments.svg/225px-7_Segment_Display_with_Labeled_Segments.svg.png)\n",
    "\n",
    "This means that for each digit you should create a vector representing the digit, as well as a perceptron that selectively gives a high output for that particular digit and a low output for other digits. For each digit (0 to 9) the corresponding perceptron shoud have the greatest output value, indicating that it can correctly classify the corresponding digit/vector and thereby distinguish that digit from other digits.\n",
    "\n",
    "For example, the digit 2 corresponds to the vector {1,1,0,1,1,0,1}. If the perceptron at index 2 (the third pereptron since we have a perceptron for 0 as well) gives the greatest output for this vector then this perceptron functions as desired. Similarly, other perceptrons should give the highest output for their corresponding vector.\n",
    "\n",
    "For example, the digit zero is represented as segments A-F being on and segment G being off. The zero perceptron should reasonably have positive activation for A-F, say at a value of 1, and negative activation for G, say -1.\n",
    "\n",
    "Why negative?\n",
    "\n",
    "If we instead set the activation for G to 0, then there is no distinction between the digits zero and eight. Thus, our perceptron for zero would have the same output regardless of whether the input is zero or eight. You can address this with biases, so that the output for our eight-perceptron is higher than the zero-perceptron for input eight, and vice versa, but it makes balancing weights and biases much more difficult.\n",
    "\n",
    "A good starting point is to consider which activations should be positive or negative, implement this, then check the output for all perceptrons for each digit and then contemplate the bias.\n",
    "\n",
    "\n",
    "### Task 1.1\n",
    "\n",
    "In this task you should use numpy rather than PyTorch to implement and understand the elementary arithmetic operations involved. After completing this exercise you should understand how an artificial neural network unit (like the perceptron) produces one scalar output from multiple input values, and how the trainable weights and biases determine the relation between input and output values of a neural network unit and layer.\n",
    "\n",
    "Complete the input vectors, the weight vectors, and biases. Then update the prediction calculation (forward pass) to include bias in the calculation."
   ]
  },
  {
   "cell_type": "code",
   "execution_count": 299,
   "metadata": {
    "ExecuteTime": {
     "end_time": "2024-01-09T10:35:56.967807200Z",
     "start_time": "2024-01-09T10:35:56.925697300Z"
    },
    "collapsed": false
   },
   "outputs": [
    {
     "name": "stdout",
     "output_type": "stream",
     "text": [
      "Digit 5 corresponds to the vector [1 0 1 1 0 1 1]\n"
     ]
    }
   ],
   "source": [
    "## First we need to define all the vectors corresponding to the various digits and add them to a list for easy access\n",
    "# Please finish the list of digit vectors\n",
    "x = [\n",
    "    numpy.array([1,1,1,1,1,1,0]), # 0\n",
    "    numpy.array([0,1,1,0,0,0,0]), # 1\n",
    "    numpy.array([1,1,0,1,1,0,1]), # 2\n",
    "    numpy.array([1,1,1,1,0,0,1]), # 3\n",
    "    numpy.array([0,1,1,0,0,1,1]), # 4\n",
    "    numpy.array([1,0,1,1,0,1,1]), # 5\n",
    "    numpy.array([1,0,1,1,1,1,1]), # 6\n",
    "    numpy.array([1,1,1,0,0,0,0]), # 7\n",
    "    numpy.array([1,1,1,1,1,1,1]), # 8\n",
    "    numpy.array([1,1,1,1,0,1,1]), # 9\n",
    "]\n",
    "\n",
    "# And we print one of the vectors to show you how to get a specific vector\n",
    "print(f'Digit 5 corresponds to the vector {x[5]}')"
   ]
  },
  {
   "cell_type": "code",
   "execution_count": 300,
   "metadata": {
    "ExecuteTime": {
     "end_time": "2024-01-09T10:36:37.574912200Z",
     "start_time": "2024-01-09T10:36:37.559272Z"
    },
    "collapsed": false
   },
   "outputs": [],
   "source": [
    "## Second we need to create ten perceptron with weights and biases\n",
    "# You also need to figure out which weights and biases to use for each perceptron\n",
    "# We've already created some of the perceptrons for you, but you need to create the rest\n",
    "# While we're using integers for our weight you can use floating point numbers (real numbers) as well if you want\n",
    "\n",
    "weights = [\n",
    "    numpy.array([1,1,1,1,1,1,-1]),      # 0\n",
    "    numpy.array([-1,1,1,-1,-1,-1,-1]),  # 1\n",
    "    numpy.array([1,1,-1,1,1,-1,1]),     # 2\n",
    "    numpy.array([1,1,1,1,-1,-1,1]),     # 3\n",
    "    numpy.array([-1,1,1,-1,-1,1,1]),    # 4\n",
    "    numpy.array([1,-1,1,1,-1,1,1]),     # 5\n",
    "    numpy.array([1,-1,1,1,1,1,1]),      # 6\n",
    "    numpy.array([1,1,1,-1,-1,-1,-1]),   # 7\n",
    "    numpy.array([1,1,1,1,1,1,1]),       # 8\n",
    "    numpy.array([1,1,1,1,-1,1,1]),      # 9\n",
    "]\n",
    "\n",
    "biases = [\n",
    "    0,  # 0\n",
    "    1, # 1\n",
    "    0,  # 2\n",
    "    0,  # 3\n",
    "    0,  # 4\n",
    "    1,  # 5\n",
    "    0,  # 6\n",
    "    1,  # 7\n",
    "    -1,  # 8\n",
    "    0,   # 9\n",
    "]"
   ]
  },
  {
   "cell_type": "code",
   "execution_count": 301,
   "metadata": {
    "ExecuteTime": {
     "end_time": "2024-01-09T14:07:14.671398100Z",
     "start_time": "2024-01-09T14:07:14.669360Z"
    },
    "collapsed": false
   },
   "outputs": [
    {
     "name": "stdout",
     "output_type": "stream",
     "text": [
      "Digit 0 was predicted to be 0\n",
      "Digit 1 was predicted to be 1\n",
      "Digit 2 was predicted to be 2\n",
      "Digit 3 was predicted to be 3\n",
      "Digit 4 was predicted to be 4\n",
      "Digit 5 was predicted to be 5\n",
      "Digit 6 was predicted to be 6\n",
      "Digit 7 was predicted to be 7\n",
      "Digit 8 was predicted to be 8\n",
      "Digit 9 was predicted to be 9\n"
     ]
    }
   ],
   "source": [
    "## Finally let's evaluate the output of the perceptrons.\n",
    "# The line computing the output of each perceptron is not using bias, so you need to add that as well.\n",
    "# If the perceptrons dont give the correct output then go back and edit the weights and biases in the\n",
    "# previous cell (or check that the vectors are implemented correctly) until the outputs discriminate\n",
    "# correctly between different digits. Remember to run a cell again (CONTROL + ENTER) if you update it.\n",
    "\n",
    "debug = False # Set this to True if the predictions are wrong to get a more detailed output\n",
    "\n",
    "for digit in range(10): # For each digit between 0 and 9 (range(n) gives a range (almost a list) of each number between 0 and n (excluding n)\n",
    "    vector = x[digit] # Get the correct vector representation of the digit\n",
    "    \n",
    "    outputs = [] # Create an empty list to put the perceptrons' outputs in\n",
    "    for w, b in zip(weights, biases): # For each weight and bias in the lists (zip takes two lists [x1,x2,...] [y1,y2,...] and makes a new list [(x1,y1),(x2,y2),...]) \n",
    "        \n",
    "        # CHANGE THIS LINE TO ADD BIASES AS WELL\n",
    "        output = w.dot(vector) + b # Calculating the output of the perceptron with weight w and bias b\n",
    "        \n",
    "        outputs.append(output) # Adding the output to the list of outputs\n",
    "    prediction = outputs.index(max(outputs)) # Get prediction by taking the index of the output value with maximum input\n",
    "    \n",
    "    print(f'Digit {digit} was predicted to be {prediction}') # This is an f-string with notation f'text {variable1} more text {variable2}'\n",
    "    \n",
    "    if debug: # If debug is True\n",
    "        print(f'Outputs for all perceptrons for the digit {digit}: {outputs}')\n",
    "        print() # Add a newline for formating"
   ]
  },
  {
   "cell_type": "markdown",
   "metadata": {
    "collapsed": false
   },
   "source": [
    "### Task 1.2\n",
    "\n",
    "Next you will train a classifier for the seven-segment display digits using PyTorch, much like you did in Exercise 0 with another dataset. The goal is to learn the weights and biases to correctly classify the digits of a seven-segment display. For this task you have the data needed via the first task above. \n",
    "\n",
    "Create the network using the PyTorch model [torch.nn.Linear](https://pytorch.org/docs/stable/generated/torch.nn.Linear.html), which you can find more information about in the [PyTorch documentation](https://pytorch.org/docs/stable/index.html). Whenever you encounter a new PyTorch function or class it's helpful to look it up in the documentation. If you wonder whether a particular machine learning feature exists in PyTorch you can also search in the documentation, or use the more brute force method of web search or asking an artificial intelligence for further information (see the discussion forum about AI in Canvas for further information). "
   ]
  },
  {
   "cell_type": "code",
   "execution_count": 302,
   "metadata": {
    "ExecuteTime": {
     "end_time": "2024-01-09T14:15:19.236289400Z",
     "start_time": "2024-01-09T14:15:19.226355400Z"
    },
    "collapsed": false
   },
   "outputs": [],
   "source": [
    "## Data and labels\n",
    "# You don't need to edit this code, we simply show you how, in this case, we create the data and labels we need\n",
    "\n",
    "# A matrix (or vector) in PyTorch is usually represented by a Tensor\n",
    "# Create a Tensor with our digit vectors\n",
    "data = torch.Tensor(x) # A Tensor can be created by simply giving it a nested numpy array/list of numbers as input\n",
    "data = data.detach() # Since we won't be chaning the data during training we detach the Tensor from the computation graph\n",
    "\n",
    "# Our labels will be the expected outputs of each perceptron for each digit\n",
    "# This means we can't simply say \"5\" is our expected output, but rather that we want [0,0,0,0,0,1,0,0,0,0]\n",
    "# This is called one-hot encoding where we have a vector where the value is one at the given index and zero everywhere else\n",
    "# Since a matrix with one-hot representations of the corresponding index is simply an identity matrix, we use that as our labels\n",
    "labels_train_raw = torch.eye(10) # Get a matrix with one-hot representations of each digit in each row (an identity matrix)\n",
    "labels_train_raw = labels_train_raw.detach() # Since we won't be changing the labels during training we detach the Tensor from the computation graph"
   ]
  },
  {
   "cell_type": "code",
   "execution_count": 303,
   "metadata": {
    "collapsed": false
   },
   "outputs": [],
   "source": [
    "## The network\n",
    "# We create a simple network from torch.nn.Linear\n",
    "\n",
    "input_size = 7 # What is the size of the input vector to the network?: # digits in 7-segment display\n",
    "output_size = 10 # What is the size of the output vector of the network?: # possible digits to display\n",
    "\n",
    "network = torch.nn.Linear(input_size, output_size) # Creating a single linear layer of a neural network with the given input and output sizes"
   ]
  },
  {
   "cell_type": "code",
   "execution_count": 304,
   "metadata": {
    "collapsed": false
   },
   "outputs": [
    {
     "name": "stdout",
     "output_type": "stream",
     "text": [
      "Epoch 10 - Loss: 0.09160180389881134\n",
      "Epoch 20 - Loss: 0.0684603676199913\n",
      "Epoch 30 - Loss: 0.05692584812641144\n",
      "Epoch 40 - Loss: 0.05006013810634613\n",
      "Epoch 50 - Loss: 0.04544319957494736\n",
      "Epoch 60 - Loss: 0.042064886540174484\n",
      "Epoch 70 - Loss: 0.03944253921508789\n",
      "Epoch 80 - Loss: 0.03732099011540413\n",
      "Epoch 90 - Loss: 0.03555398806929588\n",
      "Epoch 100 - Loss: 0.03405165672302246\n"
     ]
    },
    {
     "data": {
      "image/png": "[encoded data removed]",
      "text/plain": [
       "<Figure size 640x480 with 1 Axes>"
      ]
     },
     "metadata": {},
     "output_type": "display_data"
    }
   ],
   "source": [
    "## Training the network\n",
    "# You don't need to edit this code, we have given you the training loop to train the network\n",
    "\n",
    "epochs = 100 # How many epochs (complete runs of the data) to train for. Since our dataset is small 100 seems reasonable\n",
    "loss_function = torch.nn.MSELoss() # What function to use to calculate the loss given the prediction and labels\n",
    "optimizer = torch.optim.SGD(network.parameters(), lr=1) # Function for updating the parameters of the network based on loss\n",
    "learning_rate = 1 # How fast to optimize the network. Since our problem is quite small we can have a large learning rate, otherise 0.01 is usually standard\n",
    "\n",
    "# Create a list to keep track of how the loss changes\n",
    "losses = []\n",
    "\n",
    "# For each epoch\n",
    "for epoch in range(epochs):\n",
    "    \n",
    "    # Predict for each vector what digit they represent\n",
    "    prediction = network(data)\n",
    "    \n",
    "    # Calculate the loss of the prediction by comparing to the expected output\n",
    "    loss = loss_function(prediction, labels_train_raw)\n",
    "\n",
    "    # Backpropogate the loss through the network to find the gradients of all parameters\n",
    "    loss.backward()\n",
    "\n",
    "    # Update the parameters along their gradients\n",
    "    optimizer.step()\n",
    "\n",
    "    # Clear stored gradient values\n",
    "    optimizer.zero_grad()\n",
    "\n",
    "    # Add the loss to the total epoch loss (item() turns a PyTorch scalar into a normal Python datatype)\n",
    "    losses.append(loss.item())\n",
    "\n",
    "    #Print the epoch and loss every 10 epochs\n",
    "    if epoch % 10 == 9:\n",
    "        print(f'Epoch {epoch+1} - Loss: {loss}')\n",
    "    \n",
    "# Plot the training loss per epoch\n",
    "plt.plot(range(1,epochs+1),losses)\n",
    "plt.xlabel('Epochs')\n",
    "plt.ylabel('Loss')\n",
    "plt.show()"
   ]
  },
  {
   "cell_type": "markdown",
   "metadata": {
    "collapsed": false
   },
   "source": [
    "### Task 1.3: Check the solution\n",
    "\n",
    "Execute the cell below to see whether the network managed to learn to make the correct predictions.\n",
    "Can you figure out what the learned weights and biases are, and how similar they are to your hardcoded solutions in the first task?"
   ]
  },
  {
   "cell_type": "code",
   "execution_count": 305,
   "metadata": {
    "collapsed": false
   },
   "outputs": [
    {
     "name": "stdout",
     "output_type": "stream",
     "text": [
      "Digit 0 was predicted to be 0\n",
      "Digit 1 was predicted to be 1\n",
      "Digit 2 was predicted to be 2\n",
      "Digit 3 was predicted to be 3\n",
      "Digit 4 was predicted to be 4\n",
      "Digit 5 was predicted to be 5\n",
      "Digit 6 was predicted to be 6\n",
      "Digit 7 was predicted to be 7\n",
      "Digit 8 was predicted to be 8\n",
      "Digit 9 was predicted to be 9\n"
     ]
    }
   ],
   "source": [
    "## Testing the trained network\n",
    "# You don't need to edit this code\n",
    "\n",
    "with torch.no_grad(): # Since we're not training we don't want to calculate the gradients for this prediction\n",
    "    prediction = network(data) # Let's make one final prediction of the data\n",
    "\n",
    "for digit in range(10):\n",
    "    print(f'Digit {digit} was predicted to be {torch.argmax(prediction[digit])}') # argmax gets the index with the greatest value"
   ]
  },
  {
   "cell_type": "markdown",
   "metadata": {
    "collapsed": false
   },
   "source": [
    "## Task 2\n",
    "\n",
    "While it is unnecessary to use machine learning to develop classifiers for a seven-segment display there are many other datasets for which it is difficult, if not impossible, to engineer such solutions without data-driven training/optimization of a model. For example, we have no generally useful and efficient method enabling us to write a program that can tell the difference between images of cats and dogs. However, we can easily gather many images of each, label the images, and use the resulting dataset to train a neural network that solves the task. A central problem in machine learning is how to define and train such a model to obtain maximum performance on new data which has not been used to optimize the model, referred to as the generalization of the model. Another important problem in machine learning is to minimize the computational cost of training and using such models.\n",
    " \n",
    "Next you will extend the work started in Exercise 0 by developing a 2-layer neural network for classification of the MNIST dataset. MNIST consist of 70,000 grayscale images of handwritten digits that are 28x28 pixels each. Our goal is to train a 2-layer network that can recognize what digit an image represents. The subtasks are\n",
    "\n",
    "* Implementation of a 2 layer NN (very similar to ex0)\n",
    "* Training of this 2 layer NN (once again, very similar to ex0)\n",
    "* Validation of the network during training (requires splitting the training set)\n",
    "    - Save the model which performs the best on the validation data\n",
    "* Graph the training loss vs validation loss\n",
    "* You should obtain at least 85% accuracy on the test data (remember to load the best performing model before performing the accuracy test)\n",
    "\n",
    "The code below loads the dataset (downloads it if necessary) and displays one of the images. You have to modify this code to complete this task."
   ]
  },
  {
   "cell_type": "code",
   "execution_count": 306,
   "metadata": {
    "ExecuteTime": {
     "end_time": "2024-01-09T14:42:41.322260300Z",
     "start_time": "2024-01-09T14:42:41.058524Z"
    }
   },
   "outputs": [],
   "source": [
    "# Define the mini-batch size\n",
    "batch_size = 1000\n",
    "\n",
    "# Download the dataset and create the dataloaders\n",
    "mnist_train_raw = datasets.MNIST(\"./\", train=True, download=True, transform=transforms.ToTensor())\n",
    "train_loader = DataLoader(mnist_train_raw, batch_size=batch_size, shuffle=False)\n",
    "\n",
    "mnist_test = datasets.MNIST(\"./\", train=False, download=True, transform=transforms.ToTensor())\n",
    "test_loader = DataLoader(mnist_test, batch_size=batch_size, shuffle=False)\n",
    "\n",
    "to_onehot = nn.Embedding(10, 10)\n",
    "to_onehot.weight.data = torch.eye(10)\n",
    "\n",
    "def plot_digit(data):\n",
    "    data = data.view(28, 28)\n",
    "    plt.imshow(data, cmap=\"gray\")\n",
    "    plt.show()\n",
    "\n",
    "images_train_raw, labels_train_raw = next(iter(train_loader))\n",
    "images_test, labels_test = next(iter(test_loader))"
   ]
  },
  {
   "cell_type": "markdown",
   "metadata": {},
   "source": [
    "### Task 2.1\n",
    "\n",
    "Implement a 2-layer neural network using pytorch as well as a procedure for training and testing it. The training protocol should include both training and validation. Thus you need to split the training data into a training set (for which the error is backpropagated to update the parameters) and a validation set (which will not be used to directly update the model parameters, and instead be used to keep track of how good the model is at unseen data). \n",
    "\n",
    "The weights of the model which performs the best on the validation data should be stored and then be used for the final check on the test set. Validation sets are often created by taking a fraction of the training data (often, but not always, around 20%) at random. In Pytorch you might want to use [random_split](https://pytorch.org/docs/stable/data.html#torch.utils.data.random_split) for this. Using random split would require you to edit the way the Dataloaders are created.\n",
    "\n",
    "You are free to choose any optimizer and loss function. Just note that some loss functions require the labels to be 1-hot encoded. As you will not use convolutional layers for this exercise (will be introduced later in the course), the inputs need to be transformed to 1d tensors (see [view](https://pytorch.org/docs/stable/tensors.html?highlight=view#torch.Tensor.view)).\n",
    "\n",
    "**GOAL:** You should evaluate the network from the epoch with best validation score (early stopping) on the test set aiming to reach at least 85% accuracy.\n",
    "\n",
    "**Remember** to run all your code before grading so that the teacher doesn't have to wait around for long training runs. Plot the training and validation losses for each epoch.\n",
    "\n",
    "*Hint:* Validation and Testing loops are very similar to training except they don't use backpropagation. Additionally testing should only be performed once, while validation should be performed continually to make sure training is proceeding as intended and to save the parameters of the best epoch.\n",
    "\n",
    "*Hint:* Storing the best model is more difficult than just assigning it to a variable as this only means you have two variables referencing the same network instance in memory (not a copy of the best betwork and one containing the current network). Instead you ned to make a copy of the network which can be achived with [deepcopy](https://docs.python.org/3/library/copy.html). Other ways to store models include saving them as a file which can be done with [torch.save](https://pytorch.org/tutorials/beginner/saving_loading_models.html).\n",
    "\n",
    "*Hint:* Everytime you train a network with random parameter initialization and random batches you get networks with different performance. Sometimes just running the training again can be enough to get a better result. However, if you do this too many times you run the risk of training (overfitting) on the test set."
   ]
  },
  {
   "cell_type": "code",
   "execution_count": 307,
   "metadata": {},
   "outputs": [
    {
     "name": "stdout",
     "output_type": "stream",
     "text": [
      "Epoch 1/100 - Train Loss: 0.3451242446899414, Validation Loss: 0.36626407752434414\n",
      "Epoch 2/100 - Train Loss: 0.22154545783996582, Validation Loss: 0.2496694860359033\n",
      "Epoch 3/100 - Train Loss: 0.21492783725261688, Validation Loss: 0.2095841889580091\n",
      "Epoch 4/100 - Train Loss: 0.16810603439807892, Validation Loss: 0.18222283696134886\n",
      "Epoch 5/100 - Train Loss: 0.20058265328407288, Validation Loss: 0.1753736361861229\n",
      "Epoch 6/100 - Train Loss: 0.14124956727027893, Validation Loss: 0.15219411998987198\n",
      "Epoch 7/100 - Train Loss: 0.11796654760837555, Validation Loss: 0.14205974340438843\n",
      "Epoch 8/100 - Train Loss: 0.11762424558401108, Validation Loss: 0.13181700060764948\n",
      "Epoch 9/100 - Train Loss: 0.0907430350780487, Validation Loss: 0.12567567390700182\n",
      "Epoch 10/100 - Train Loss: 0.08205355703830719, Validation Loss: 0.118635185683767\n",
      "Epoch 11/100 - Train Loss: 0.09346473217010498, Validation Loss: 0.11509139214952786\n",
      "Epoch 12/100 - Train Loss: 0.0787685438990593, Validation Loss: 0.11283815652132034\n",
      "Epoch 13/100 - Train Loss: 0.07956132292747498, Validation Loss: 0.10687725059688091\n",
      "Epoch 14/100 - Train Loss: 0.09043638408184052, Validation Loss: 0.11000132746994495\n",
      "Epoch 15/100 - Train Loss: 0.07915826141834259, Validation Loss: 0.09996645463009675\n",
      "Epoch 16/100 - Train Loss: 0.05545513331890106, Validation Loss: 0.09718448172012965\n",
      "Epoch 17/100 - Train Loss: 0.06398911774158478, Validation Loss: 0.09970577682058017\n",
      "Epoch 18/100 - Train Loss: 0.061863552778959274, Validation Loss: 0.09627061150968075\n",
      "Epoch 19/100 - Train Loss: 0.06007445231080055, Validation Loss: 0.09344558169444402\n",
      "Epoch 20/100 - Train Loss: 0.06411977112293243, Validation Loss: 0.09339043560127418\n",
      "Epoch 21/100 - Train Loss: 0.07175726443529129, Validation Loss: 0.08973125802973907\n",
      "Epoch 22/100 - Train Loss: 0.055932480841875076, Validation Loss: 0.09058025355140369\n",
      "Epoch 23/100 - Train Loss: 0.06036967784166336, Validation Loss: 0.08825401589274406\n",
      "Epoch 24/100 - Train Loss: 0.05217105522751808, Validation Loss: 0.08664618867139022\n",
      "Epoch 25/100 - Train Loss: 0.048834409564733505, Validation Loss: 0.08785908482968807\n",
      "Epoch 26/100 - Train Loss: 0.04960053041577339, Validation Loss: 0.08808680002888043\n",
      "Epoch 27/100 - Train Loss: 0.04580900818109512, Validation Loss: 0.08444640288750331\n",
      "Epoch 28/100 - Train Loss: 0.0484195202589035, Validation Loss: 0.08651444998880227\n",
      "Epoch 29/100 - Train Loss: 0.034118447452783585, Validation Loss: 0.08344235892097156\n",
      "Epoch 30/100 - Train Loss: 0.038671236485242844, Validation Loss: 0.08550864395995934\n",
      "Epoch 31/100 - Train Loss: 0.038419678807258606, Validation Loss: 0.08224405596653621\n",
      "Epoch 32/100 - Train Loss: 0.04459010064601898, Validation Loss: 0.0841321311891079\n",
      "Epoch 33/100 - Train Loss: 0.029290542006492615, Validation Loss: 0.08227812809248765\n",
      "Epoch 34/100 - Train Loss: 0.04535987973213196, Validation Loss: 0.08575704072912534\n",
      "Epoch 35/100 - Train Loss: 0.0251705851405859, Validation Loss: 0.08213638110707204\n",
      "Epoch 36/100 - Train Loss: 0.03502071276307106, Validation Loss: 0.08436767322321732\n",
      "Epoch 37/100 - Train Loss: 0.0225986260920763, Validation Loss: 0.08266570046544075\n",
      "Epoch 38/100 - Train Loss: 0.041262250393629074, Validation Loss: 0.08211397100239992\n",
      "Epoch 39/100 - Train Loss: 0.023492686450481415, Validation Loss: 0.08299138148625691\n",
      "Epoch 40/100 - Train Loss: 0.031339485198259354, Validation Loss: 0.08394270297139883\n",
      "Epoch 41/100 - Train Loss: 0.02727557346224785, Validation Loss: 0.08161341367910306\n",
      "Epoch 42/100 - Train Loss: 0.0371280312538147, Validation Loss: 0.08280358618746202\n",
      "Epoch 43/100 - Train Loss: 0.02987012080848217, Validation Loss: 0.08389189094305038\n",
      "Epoch 44/100 - Train Loss: 0.03333563357591629, Validation Loss: 0.08174224415173133\n",
      "Epoch 45/100 - Train Loss: 0.024252789095044136, Validation Loss: 0.08142104869087537\n",
      "Epoch 46/100 - Train Loss: 0.028281839564442635, Validation Loss: 0.08395029107729594\n",
      "Epoch 47/100 - Train Loss: 0.032712019979953766, Validation Loss: 0.0830019802475969\n",
      "Epoch 48/100 - Train Loss: 0.014619368128478527, Validation Loss: 0.0812774021178484\n",
      "Epoch 49/100 - Train Loss: 0.020779216662049294, Validation Loss: 0.08245182565102975\n",
      "Epoch 50/100 - Train Loss: 0.021432440727949142, Validation Loss: 0.08120748524864514\n",
      "Epoch 51/100 - Train Loss: 0.016604434698820114, Validation Loss: 0.08274376609673102\n",
      "Epoch 52/100 - Train Loss: 0.01971368119120598, Validation Loss: 0.08389819506555796\n",
      "Epoch 53/100 - Train Loss: 0.01729591190814972, Validation Loss: 0.08453183621168137\n",
      "Epoch 54/100 - Train Loss: 0.02021217904984951, Validation Loss: 0.08447977062314749\n",
      "Epoch 55/100 - Train Loss: 0.010926221497356892, Validation Loss: 0.08323228886971872\n",
      "Epoch 56/100 - Train Loss: 0.016009589657187462, Validation Loss: 0.08374679399033387\n",
      "Epoch 57/100 - Train Loss: 0.011906626634299755, Validation Loss: 0.08271586739768584\n",
      "Epoch 58/100 - Train Loss: 0.013677053153514862, Validation Loss: 0.0835373376806577\n",
      "Epoch 59/100 - Train Loss: 0.015063800849020481, Validation Loss: 0.08588188420981169\n",
      "Epoch 60/100 - Train Loss: 0.013258470222353935, Validation Loss: 0.08381613281865914\n",
      "Epoch 61/100 - Train Loss: 0.017393045127391815, Validation Loss: 0.08502473154415686\n",
      "Epoch 62/100 - Train Loss: 0.009547572582960129, Validation Loss: 0.0839307044322292\n",
      "Epoch 63/100 - Train Loss: 0.011276421137154102, Validation Loss: 0.08577535394579172\n",
      "Epoch 64/100 - Train Loss: 0.012446111999452114, Validation Loss: 0.08536300404618184\n",
      "Epoch 65/100 - Train Loss: 0.007930262014269829, Validation Loss: 0.08405122409264247\n",
      "Epoch 66/100 - Train Loss: 0.008115609176456928, Validation Loss: 0.08503594001134236\n",
      "Epoch 67/100 - Train Loss: 0.009928454644978046, Validation Loss: 0.08536168746650219\n",
      "Epoch 68/100 - Train Loss: 0.01040367130190134, Validation Loss: 0.08568917866796255\n",
      "Epoch 69/100 - Train Loss: 0.013420148752629757, Validation Loss: 0.08557010131577651\n",
      "Epoch 70/100 - Train Loss: 0.008582111448049545, Validation Loss: 0.08633099092791478\n",
      "Epoch 71/100 - Train Loss: 0.008905956521630287, Validation Loss: 0.0851415495077769\n",
      "Epoch 72/100 - Train Loss: 0.010035929270088673, Validation Loss: 0.08574880566447973\n",
      "Epoch 73/100 - Train Loss: 0.0099490936845541, Validation Loss: 0.08579571917653084\n",
      "Epoch 74/100 - Train Loss: 0.009058528579771519, Validation Loss: 0.08607414302726586\n",
      "Epoch 75/100 - Train Loss: 0.009425506927073002, Validation Loss: 0.08600999135524035\n",
      "Epoch 76/100 - Train Loss: 0.00925632007420063, Validation Loss: 0.08717291119198005\n",
      "Epoch 77/100 - Train Loss: 0.00871925987303257, Validation Loss: 0.08944399654865265\n",
      "Epoch 78/100 - Train Loss: 0.008194372057914734, Validation Loss: 0.08876150598128636\n",
      "Epoch 79/100 - Train Loss: 0.006888740696012974, Validation Loss: 0.08802404254674911\n",
      "Epoch 80/100 - Train Loss: 0.006146986037492752, Validation Loss: 0.08798205635199945\n",
      "Epoch 81/100 - Train Loss: 0.007377432193607092, Validation Loss: 0.08871323398003976\n",
      "Epoch 82/100 - Train Loss: 0.006715412251651287, Validation Loss: 0.08859795704483986\n",
      "Epoch 83/100 - Train Loss: 0.006504435557872057, Validation Loss: 0.08851451116303603\n",
      "Epoch 84/100 - Train Loss: 0.006057580001652241, Validation Loss: 0.0885922247543931\n",
      "Epoch 85/100 - Train Loss: 0.006326992064714432, Validation Loss: 0.08935750896732013\n",
      "Epoch 86/100 - Train Loss: 0.006934399716556072, Validation Loss: 0.08937054220587015\n",
      "Epoch 87/100 - Train Loss: 0.007220238912850618, Validation Loss: 0.08871307037770748\n",
      "Epoch 88/100 - Train Loss: 0.0060828025452792645, Validation Loss: 0.08939452717701594\n",
      "Epoch 89/100 - Train Loss: 0.006466567516326904, Validation Loss: 0.08978469887127478\n",
      "Epoch 90/100 - Train Loss: 0.006951006595045328, Validation Loss: 0.0903985823194186\n",
      "Epoch 91/100 - Train Loss: 0.005643574055284262, Validation Loss: 0.09062535191575687\n",
      "Epoch 92/100 - Train Loss: 0.004356376826763153, Validation Loss: 0.09049060133596261\n",
      "Epoch 93/100 - Train Loss: 0.0052074589766561985, Validation Loss: 0.0908605670556426\n",
      "Epoch 94/100 - Train Loss: 0.005220079328864813, Validation Loss: 0.09123443687955539\n",
      "Epoch 95/100 - Train Loss: 0.006372637115418911, Validation Loss: 0.09138182736933231\n",
      "Epoch 96/100 - Train Loss: 0.005090359598398209, Validation Loss: 0.09117869411905606\n",
      "Epoch 97/100 - Train Loss: 0.0055147684179246426, Validation Loss: 0.09220664886136849\n",
      "Epoch 98/100 - Train Loss: 0.004762755706906319, Validation Loss: 0.09164202647904555\n",
      "Epoch 99/100 - Train Loss: 0.005158375017344952, Validation Loss: 0.09220079332590103\n",
      "Epoch 100/100 - Train Loss: 0.00583623256534338, Validation Loss: 0.09252401844908793\n",
      "Test Accuracy: 97.59%\n"
     ]
    }
   ],
   "source": [
    "import torch\n",
    "import torch.nn as nn\n",
    "import torch.optim as optim\n",
    "from torch.utils.data import DataLoader, random_split\n",
    "from torchvision import datasets, transforms\n",
    "import matplotlib.pyplot as plt\n",
    "\n",
    "# Set random seed for reproducibility\n",
    "torch.manual_seed(42)\n",
    "\n",
    "# Define the mini-batch size (number of samples in each iteration)\n",
    "batch_size = 1000\n",
    "\n",
    "# Download the dataset and create the dataloaders\n",
    "mnist_train_raw = datasets.MNIST(\"./\", train=True, download=True, transform=transforms.ToTensor())\n",
    "mnist_test = datasets.MNIST(\"./\", train=False, download=True, transform=transforms.ToTensor())\n",
    "\n",
    "# Split the dataset into training and validation sets\n",
    "validation_split = 0.2  # 20%\n",
    "split = int(len(mnist_train_raw) * (1 - validation_split))\n",
    "train_dataset, val_dataset = random_split(mnist_train_raw, [split, len(mnist_train_raw) - split])\n",
    "\n",
    "# Create data loaders for training and validation\n",
    "train_loader = DataLoader(train_dataset, batch_size=batch_size, shuffle=True)\n",
    "val_loader = DataLoader(val_dataset, batch_size=batch_size, shuffle=False)\n",
    "test_loader = DataLoader(mnist_test, batch_size=batch_size, shuffle=False)\n",
    "\n",
    "# Define the neural network model\n",
    "class MNISTNetwork(nn.Module):\n",
    "    def __init__(self):\n",
    "        super(MNISTNetwork, self).__init__()\n",
    "        self.fc1 = nn.Linear(28 * 28, 100)  # Input layer to hidden layer\n",
    "        self.relu = nn.ReLU()  # Activation function\n",
    "        self.fc2 = nn.Linear(100, 10)  # Hidden layer to output layer\n",
    "\n",
    "    def forward(self, x):\n",
    "        x = x.view(-1, 28 * 28)  # Flatten the input images\n",
    "        x = self.fc1(x)\n",
    "        x = self.relu(x)\n",
    "        x = self.fc2(x)\n",
    "        return x\n",
    "\n",
    "# Initialize the network, loss function, and optimizer\n",
    "mnist_network = MNISTNetwork()\n",
    "loss_function = nn.CrossEntropyLoss()\n",
    "optimizer = optim.SGD(mnist_network.parameters(), lr=0.01)\n",
    "\n",
    "# Training loop with early stopping\n",
    "best_network = None\n",
    "best_val_loss = float('inf')\n",
    "train_losses, val_losses = [], []\n",
    "epochs = 100\n",
    "patience = 10  # Number of epochs to wait for improvement\n",
    "\n",
    "for epoch in range(epochs):\n",
    "    # Training\n",
    "    mnist_network.train()\n",
    "    for images, labels in train_loader:\n",
    "        optimizer.zero_grad()\n",
    "        predictions = mnist_network(images)\n",
    "        loss = loss_function(predictions, labels)\n",
    "        loss.backward()\n",
    "        optimizer.step()\n",
    "\n",
    "    # Validation\n",
    "    mnist_network.eval()\n",
    "    val_loss = 0.0\n",
    "    with torch.no_grad():\n",
    "        for images, labels in val_loader:\n",
    "            predictions = mnist_network(images)\n",
    "            val_loss += loss_function(predictions, labels).item()\n",
    "\n",
    "    val_loss /= len(val_loader)\n",
    "    train_losses.append(loss.item())\n",
    "    val_losses.append(val_loss)\n",
    "\n",
    "    print(f'Epoch {epoch + 1}/{epochs} - Train Loss: {loss.item()}, Validation Loss: {val_loss}')\n",
    "\n",
    "    # Save the model with the best validation loss\n",
    "    if val_loss < best_val_loss:\n",
    "        best_val_loss = val_loss\n",
    "        best_network = torch.save(mnist_network.state_dict(), 'best_model.pth')\n",
    "        patience_counter = 0\n",
    "    else:\n",
    "        patience_counter += 1\n",
    "\n",
    "    # Early stopping check\n",
    "    if patience_counter >= patience:\n",
    "        print(f'Early stopping. No improvement in validation loss for {patience} epochs.')\n",
    "        break\n",
    "\n",
    "# Load the best model parameters for testing\n",
    "mnist_network.load_state_dict(torch.load('best_model.pth'))\n",
    "\n",
    "# Test accuracy\n",
    "mnist_network.eval()\n",
    "correct = 0\n",
    "total = 0\n",
    "\n",
    "with torch.no_grad():\n",
    "    for images, labels in test_loader:\n",
    "        predictions = mnist_network(images)\n",
    "        _, predicted = torch.max(predictions.data, 1)\n",
    "        total += labels.size(0)\n",
    "        correct += (predicted == labels).sum().item()\n",
    "\n",
    "accuracy = correct / total \n",
    "print(f'Test Accuracy: {accuracy * 100:.2f}%')\n",
    "\n",
    "# Plot training and validation losses\n",
    "plt.plot(train_losses, label='Training Loss')\n",
    "plt.plot(val_losses, label='Validation Loss')\n",
    "plt.xlabel('Epochs')\n",
    "plt.ylabel('Loss')\n",
    "plt.legend()\n",
    "plt.show()\n"
   ]
  },
  {
   "cell_type": "markdown",
   "metadata": {},
   "source": [
    "## Task 3\n",
    "\n",
    "Implement a 2-layer neural network like above, but now without using a high-level machine learning library like pytorch. The network should function in the same way as the network in Task 2. The code block below contains code to change the training data from the DataLoader format to the \"raw\" numpy format. It also contains some comments to guide you in the right direction. The substasks involved are\n",
    "\n",
    "* Implementation of a 2 layer NN using numpy\n",
    "* Training and validation of the 2 layer NN\n",
    "    - Once again, save the best performing model (can be done in memory)\n",
    "* Graph the training vs validation loss\n",
    "* At least 50% accuracy on the validation data (can be hard to get high accuracy)\n",
    "\n",
    "**Note that the solution does not need to be fast/scalable, thus it is OK to develop a custom solution with, e.g., two explicit weight matrix variables representing the two layers.**\n",
    "\n",
    "### The foward pass\n",
    "This is easy. Recall that each differnt layer is calculated by the formula: \n",
    "$$ y = g(\\mathbf{W}*\\mathbf{x} + b) $$\n",
    "where $W$ is the weight matrix, $x$ the input, $b$ the bias and $g$ the non-linearity. For this exercise you are allowed to put $b = 0$ for simplicity when calculating the backwards pass.\n",
    "\n",
    "### Backward pass\n",
    "This can be tricky. In canvas there is lecture material which explains back propogation and all the maths behind it. It should be under *Modules > Artificial Neural Networks (ANN) - Part 1 > Lecture: Backpropagation derivation.mp4*. This, the supplementary material for the lecture, together with the course book should be enough material for you to be able to implement the training algorithm.\n",
    "\n",
    "### Weight update\n",
    "Once you have calculated the gradient of both weight matrixes, this is updated by:\n",
    "$$ W_i = W_i - \\gamma \\dfrac{dL}{dW_i} $$\n",
    "where $\\gamma$ is the step size, or learning rate.\n",
    "\n",
    "***Remember*** to run all your code before grading so the teacher doesn't have to wait around for long training runs."
   ]
  },
  {
   "cell_type": "code",
   "execution_count": 308,
   "metadata": {
    "collapsed": false
   },
   "outputs": [
    {
     "ename": "SyntaxError",
     "evalue": "expected ':' (2111667462.py, line 20)",
     "output_type": "error",
     "traceback": [
      "\u001b[1;36m  Cell \u001b[1;32mIn[308], line 20\u001b[1;36m\u001b[0m\n\u001b[1;33m    for inputs, labels_train_raw in ...\u001b[0m\n\u001b[1;37m                                       ^\u001b[0m\n\u001b[1;31mSyntaxError\u001b[0m\u001b[1;31m:\u001b[0m expected ':'\n"
     ]
    }
   ],
   "source": [
    "import numpy as np\n",
    "import matplotlib.pyplot as plt\n",
    "import sys\n",
    "\n",
    "epochs = 10  # Set the number of epochs to train for\n",
    "D_in = 784   # Input size, images are 28x28 = 784 element vectors\n",
    "D_out = 10   # Output size, 10 digit classes\n",
    "H1 = 100     # Hidden layer size\n",
    "gamma = 1e-5 # Learning rate\n",
    "\n",
    "# Define network with one hidden layer, random initial weights\n",
    "w1 = np.random.randn(D_in, H1)\n",
    "w2 = np.random.randn(H1, D_out)\n",
    "\n",
    "# Training iterations\n",
    "\n",
    "# Train for a number of epochs\n",
    "for epoch in range(epochs):\n",
    "    # Training by looping over training set\n",
    "    for inputs, labels_train_raw in ...\n",
    "        inputs = inputs.numpy()\n",
    "        labels_train_raw = labels_train_raw.numpy()\n",
    "        \n",
    "        for i in range(batch_size):\n",
    "            # iterate through the mini-batch and perform forward pass and backward pass\n",
    "            x = inputs[i].reshape((1, D_in))\n",
    "            y = np.eye(10)[labels_train_raw[i]]    # 1-hot encoding\n",
    "\n",
    "            # Forward pass\n",
    "            h = ...\n",
    "            h_relu = ...\n",
    "            y_pred = ...\n",
    "\n",
    "            # Compute loss function, squared error\n",
    "    \n",
    "            # Compute gradients of square-error loss with respect to w1 and w2 using backpropagation\n",
    "\n",
    "            # Update weights (stochastic gradient descent)\n",
    "\n",
    "\n",
    "    # Validate the model\n",
    "\n",
    "    \n",
    "# Plot training and validation loss\n",
    "\n",
    "total = 0\n",
    "correct = 0\n",
    "\n",
    "# Calculate accuracy on one test batch"
   ]
  },
  {
   "cell_type": "markdown",
   "metadata": {},
   "source": [
    "## Optional programming challenge\n",
    "You have now implemented a 2-layer neural network from scratch! Use this new gained knowledge to create an implementation where we can create and train a network with an arbitrary number of layers and units in each layer. This means that we should be able to specify the structure of the network and then train it using backpropagation."
   ]
  },
  {
   "cell_type": "code",
   "execution_count": null,
   "metadata": {},
   "outputs": [],
   "source": []
  },
  {
   "cell_type": "markdown",
   "metadata": {
    "collapsed": false
   },
   "source": [
    "## End\n",
    "\n",
    "You have now reached the end of ANN1. When you have completed and understood the task above please make sure that all results inluding plots have been computed and then schedule a meeting with a teacher. The teacher will then assess orally that you (the lab group) has completed the exercise and that you understand its essental elements."
   ]
  }
 ],
 "metadata": {
  "kernelspec": {
   "display_name": "Python 3 (ipykernel)",
   "language": "python",
   "name": "python3"
  },
  "language_info": {
   "codemirror_mode": {
    "name": "ipython",
    "version": 3
   },
   "file_extension": ".py",
   "mimetype": "text/x-python",
   "name": "python",
   "nbconvert_exporter": "python",
   "pygments_lexer": "ipython3",
   "version": "3.11.7"
  }
 },
 "nbformat": 4,
 "nbformat_minor": 2
}
